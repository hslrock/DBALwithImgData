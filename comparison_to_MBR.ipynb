{
 "cells": [
  {
   "cell_type": "markdown",
   "metadata": {
    "id": "XC1hpdSWp3hN"
   },
   "source": [
    "## 0.0 Check Available GPU/ CPU"
   ]
  },
  {
   "cell_type": "code",
   "execution_count": 1,
   "metadata": {
    "colab": {
     "base_uri": "https://localhost:8080/"
    },
    "id": "U8ASAnRmpP_U",
    "outputId": "f5dc3cd1-3a02-4ea9-8a73-19098ac1f932"
   },
   "outputs": [
    {
     "name": "stdout",
     "output_type": "stream",
     "text": [
      "/bin/bash: nvidia-smi: command not found\r\n"
     ]
    }
   ],
   "source": [
    "!nvidia-smi"
   ]
  },
  {
   "cell_type": "markdown",
   "metadata": {
    "id": "goNRU1XIpaui"
   },
   "source": [
    "## 0.1 Install Required Packages"
   ]
  },
  {
   "cell_type": "code",
   "execution_count": 2,
   "metadata": {
    "colab": {
     "base_uri": "https://localhost:8080/"
    },
    "id": "Ecr0n_E0pRG6",
    "outputId": "66ebe754-c90d-46bc-d3e3-67cb5334f612"
   },
   "outputs": [],
   "source": [
    "#!pip install git+https://github.com/modAL-python/modAL.git skorch "
   ]
  },
  {
   "cell_type": "markdown",
   "metadata": {
    "id": "bueqgwbEptmK"
   },
   "source": [
    "## 1.0 Load Packages"
   ]
  },
  {
   "cell_type": "code",
   "execution_count": 3,
   "metadata": {
    "id": "8POGnEXmpm5Q"
   },
   "outputs": [],
   "source": [
    "%matplotlib inline\n",
    "\n",
    "import numpy as np\n",
    "import matplotlib\n",
    "import matplotlib.pyplot as plt\n",
    "import os\n",
    "import scipy as sp\n",
    "import seaborn as sns\n",
    "import time\n",
    "import torch\n",
    "import torch.nn as nn\n",
    "import torch.nn.functional as F\n",
    "import torchvision.transforms as transforms\n",
    "\n",
    "from modAL.models import ActiveLearner, BayesianOptimizer\n",
    "from scipy import stats\n",
    "from scipy.ndimage.filters import gaussian_filter1d\n",
    "from scipy.spatial.distance import pdist, squareform\n",
    "from skorch import NeuralNetClassifier\n",
    "from torchvision.datasets import MNIST\n",
    "from torch.utils.data import DataLoader, random_split"
   ]
  },
  {
   "cell_type": "markdown",
   "metadata": {
    "id": "8HpwjzqMt3F4"
   },
   "source": [
    "## 1.1 Load Datasets"
   ]
  },
  {
   "cell_type": "code",
   "execution_count": 4,
   "metadata": {
    "id": "l_2IgrT6vlrC"
   },
   "outputs": [],
   "source": [
    "def tensor_to_np(tensor_data: torch.Tensor) -> np.ndarray:\n",
    "    \"\"\"Since Skorch doesn not support dtype of torch.Tensor, we will modify\n",
    "    the dtype to numpy.ndarray\n",
    "    Attribute:\n",
    "        tensor_data: Data of class type=torch.Tensor\n",
    "    \"\"\"\n",
    "    np_data = tensor_data.detach().numpy()\n",
    "    return np_data"
   ]
  },
  {
   "cell_type": "code",
   "execution_count": 30,
   "metadata": {
    "id": "LFdIPFfvvn3n"
   },
   "outputs": [],
   "source": [
    "TRAIN_SIZE = 10000\n",
    "VAL_SIZE = 300\n",
    "POOL_SIZE = 60000 - TRAIN_SIZE - VAL_SIZE "
   ]
  },
  {
   "cell_type": "code",
   "execution_count": 31,
   "metadata": {},
   "outputs": [
    {
     "data": {
      "text/plain": [
       "49700"
      ]
     },
     "execution_count": 31,
     "metadata": {},
     "output_type": "execute_result"
    }
   ],
   "source": [
    "POOL_SIZE"
   ]
  },
  {
   "cell_type": "code",
   "execution_count": 32,
   "metadata": {
    "colab": {
     "base_uri": "https://localhost:8080/",
     "height": 514,
     "referenced_widgets": [
      "7efb1b31fe3d429facaebbf8d9f70cea",
      "63f9e8f5c22c454fa8df54e5da6ebc45",
      "503ba1cd7e1c40ea98f8cdbcef1d3b76",
      "2c1da7bd8b524666ae0086c82095e214",
      "d7955a1118834a6e8a5e951a3613dbd2",
      "514c468eac06446e86ca9505fdeb5592",
      "b02fa94725c542c7b508c7e4e2380901",
      "e62b575c26c342a783ce2244645bf8c8",
      "3901cdd8c2d74856b81a192552645bb1",
      "b1dc88a5e47944d2943f81a4745f0d91",
      "09b628aab8fe48b3baf8032832a2b2d7",
      "cbc0462095eb477fb4552e66c816ceb2",
      "2afc728871be4afa8da5dbda079dfb87",
      "d030d33a5d1b4991bafb4ca97df381ba",
      "b8f32f5f1ada4323a49e7229790b427d",
      "b4ec75c8fc074011964a4b8e4ca3e9b4",
      "f8878bc395354dbd925cdc95cbeff704",
      "17a23def78c0492abf3225cc6468f836",
      "014c489e79034e9fb8d12dd2264c312c",
      "2e7b84b61dad4cb29cab7b3359866e26",
      "002dcd76137a4c0085b9e88b8d21232d",
      "0308b63c7fc548dfb1df39b094da76bf",
      "c5c13b22e3304125b2b3ed88ffc042bf",
      "630d6c0992014d6a8c5b9219c07cafaf",
      "024c5025523d41c8a15ef2abff899f7f",
      "588172b0d77845208662681dd45ba376",
      "89e410d0f3d947eca2279fa79206595a",
      "02936b7b61254a01822833517cea2f13",
      "ac1065531699495e9cc0f629bd3c1435",
      "73d29da2131c4fd7a21e94d162322048",
      "0df162b91a7f41aea412b5a2d2164ba4",
      "69d106f9f09045289860181456c18235"
     ]
    },
    "id": "mFX1jgiTt2Xs",
    "outputId": "ceec565c-482f-44ca-9910-ebbddde505a5"
   },
   "outputs": [],
   "source": [
    "transform = transforms.Compose(\n",
    "            [transforms.ToTensor(), transforms.Normalize((0.1307,), (0.3081,))]\n",
    "        )\n",
    "\n",
    "mnist_train = MNIST(\".\", train=True, download=True, transform=transform)\n",
    "mnist_test = MNIST(\".\", train=False, download=True, transform=transform)\n",
    "\n",
    "\n",
    "train_set, val_set, pool_set = random_split(\n",
    "    mnist_train, [TRAIN_SIZE, VAL_SIZE, POOL_SIZE]\n",
    ")\n",
    "\n",
    "pool_set,_ = random_split(\n",
    "    pool_set, [1000,POOL_SIZE-1000]\n",
    ")\n",
    "\n",
    "train_loader = DataLoader(\n",
    "    dataset=train_set, batch_size=TRAIN_SIZE, shuffle=True\n",
    ")\n",
    "val_loader = DataLoader(dataset=val_set, batch_size=VAL_SIZE, shuffle=True)\n",
    "pool_loader = DataLoader(\n",
    "    dataset=pool_set, batch_size=POOL_SIZE, shuffle=True\n",
    ")\n",
    "test_loader = DataLoader(\n",
    "    dataset=mnist_test, batch_size=10000, shuffle=True\n",
    ")\n",
    "\n",
    "\n",
    "X_train_All, y_train_All = next(iter(train_loader))\n",
    "X_val, y_val = next(iter(val_loader))\n",
    "X_pool, y_pool = next(iter(pool_loader))\n",
    "X_test, y_test = next(iter(test_loader))"
   ]
  },
  {
   "cell_type": "markdown",
   "metadata": {
    "id": "tlchr4cM4nu4"
   },
   "source": [
    "To build a binary classification model for MNIST, we will first select the target number. (For instance, digit 9) Next, change the label to True or False, if image==9, return True and vice versa. "
   ]
  },
  {
   "cell_type": "code",
   "execution_count": 33,
   "metadata": {
    "id": "VZlkJNJm6xnJ"
   },
   "outputs": [],
   "source": [
    "y_train_All_9 = (y_train_All == 9)\n",
    "y_val_9 = (y_val == 9)\n",
    "y_pool_9 = (y_pool == 9)\n",
    "y_test_9 = (y_test == 9)"
   ]
  },
  {
   "cell_type": "code",
   "execution_count": 34,
   "metadata": {
    "colab": {
     "base_uri": "https://localhost:8080/"
    },
    "id": "xK_QChjqvZws",
    "outputId": "39ebf218-d3da-40aa-d42b-a56203dc8219"
   },
   "outputs": [
    {
     "name": "stdout",
     "output_type": "stream",
     "text": [
      "Initial training data points: 20\n",
      "Data distribution for each class: [10 10]\n"
     ]
    }
   ],
   "source": [
    "initial_idx = np.array([], dtype=np.int)\n",
    "state = True\n",
    "\n",
    "for i in range(2):\n",
    "    idx = np.random.choice(\n",
    "        np.where(y_train_All_9 == state)[0], size=10, replace=False\n",
    "    )\n",
    "    initial_idx = np.concatenate((initial_idx, idx))\n",
    "    state = False\n",
    "\n",
    "\n",
    "X_init = X_train_All[initial_idx]\n",
    "y_init_9 = y_train_All_9[initial_idx]\n",
    "\n",
    "\n",
    "print(f\"Initial training data points: {X_init.shape[0]}\")\n",
    "print(f\"Data distribution for each class: {np.bincount(y_init_9)}\")"
   ]
  },
  {
   "cell_type": "code",
   "execution_count": 35,
   "metadata": {
    "colab": {
     "base_uri": "https://localhost:8080/"
    },
    "id": "jIxfOH_ewFhe",
    "outputId": "87d1cfd8-f539-488e-b9c7-b647dc95be25"
   },
   "outputs": [
    {
     "name": "stdout",
     "output_type": "stream",
     "text": [
      "Data type: <class 'numpy.ndarray'>\n"
     ]
    }
   ],
   "source": [
    "X_init = tensor_to_np(X_init)\n",
    "y_init = tensor_to_np(y_init_9).astype(int)\n",
    "X_val = tensor_to_np(X_val)\n",
    "y_val = tensor_to_np(y_val_9).astype(int)\n",
    "X_pool = tensor_to_np(X_pool)\n",
    "y_pool = tensor_to_np(y_pool_9).astype(int)\n",
    "X_test = tensor_to_np(X_test)\n",
    "y_test = tensor_to_np(y_test_9).astype(int)\n",
    "\n",
    "\n",
    "print(f\"Data type: {type(X_test)}\")"
   ]
  },
  {
   "cell_type": "code",
   "execution_count": 36,
   "metadata": {
    "colab": {
     "base_uri": "https://localhost:8080/",
     "height": 283
    },
    "id": "O7rNwM4v5HRA",
    "outputId": "aa6faaad-1d92-434f-e058-447f5712212f"
   },
   "outputs": [
    {
     "data": {
      "image/png": "[encoded data removed]",
      "text/plain": [
       "<Figure size 432x288 with 1 Axes>"
      ]
     },
     "metadata": {
      "needs_background": "light"
     },
     "output_type": "display_data"
    },
    {
     "name": "stdout",
     "output_type": "stream",
     "text": [
      "This digit is equal to 9: 1\n"
     ]
    }
   ],
   "source": [
    "random_idx = np.random.randint(0, 20)\n",
    "random_digit = X_init[random_idx]\n",
    "random_digit_img = random_digit.reshape(28, 28)\n",
    "\n",
    "plt.imshow(random_digit_img, cmap = matplotlib.cm.binary, interpolation = \"nearest\")\n",
    "plt.axis(\"on\")\n",
    "plt.show()\n",
    "\n",
    "print(f\"This digit is equal to 9: {y_init[random_idx]}\") # If True, return 1, else 0"
   ]
  },
  {
   "cell_type": "markdown",
   "metadata": {
    "id": "6s-FQY4Mrgje"
   },
   "source": [
    "## 2.0 Acquisition Functions\n",
    "* Random (Uniform): baseline\n",
    "* Max Entropy\n",
    "* BALD \n",
    "* Var Ratios"
   ]
  },
  {
   "cell_type": "code",
   "execution_count": 37,
   "metadata": {
    "id": "nOOwCgMYtFu4"
   },
   "outputs": [],
   "source": [
    "def predictions_from_pool(\n",
    "    model, X_pool: np.ndarray, T: int = 100, training: bool = True\n",
    "):\n",
    "    \"\"\"Run random_subset prediction on model and return the output\n",
    "    Attributes:\n",
    "        X_pool: Pool set to select uncertainty,\n",
    "        T: Number of MC dropout iterations aka training iterations,\n",
    "        training: If False, run test without MC dropout. (default=True)\n",
    "    \"\"\"\n",
    "    random_subset = np.random.choice(range(len(X_pool)), size=500, replace=False)\n",
    "    with torch.no_grad():\n",
    "        outputs = np.stack(\n",
    "            [\n",
    "                torch.softmax(\n",
    "                    model.estimator.forward(X_pool[random_subset], training=training),\n",
    "                    dim=-1,\n",
    "                )\n",
    "                .cpu()\n",
    "                .numpy()\n",
    "                for _ in range(T)\n",
    "            ]\n",
    "        )\n",
    "    return outputs, random_subset\n",
    "\n",
    "\n",
    "def uniform(\n",
    "    model, X_pool: np.ndarray, n_query: int = 10, T: int = 100, training: bool = True\n",
    "):\n",
    "    \"\"\"Baseline acquisition a(x) = unif() with unif() a function\n",
    "    returning a draw from a uniform distribution over the interval [0,1].\n",
    "    Using this acquisition function is equivalent to choosing a point\n",
    "    uniformly at random from the pool.\n",
    "    Attributes:\n",
    "        X_pool: Pool set to select uncertainty,\n",
    "        n_query: Number of points that randomly select from pool set,\n",
    "        training: If False, run test without MC dropout. (default=True)\n",
    "    \"\"\"\n",
    "    query_idx = np.random.choice(range(len(X_pool)), size=n_query, replace=False)\n",
    "    return query_idx, X_pool[query_idx]\n",
    "\n",
    "\n",
    "def shannon_entropy_function(\n",
    "    model, X_pool: np.ndarray, T: int = 100, E_H: bool = False, training: bool = True\n",
    "):\n",
    "    \"\"\"H[y|x,D_train] := - sum_{c} p(y=c|x,D_train)log p(y=c|x,D_train)\n",
    "    Attributes:\n",
    "        model: Model that is ready to measure uncertainty after training,\n",
    "        X_pool: Pool set to select uncertainty,\n",
    "        T: Number of MC dropout iterations aka training iterations,\n",
    "        E_H: If True, compute H and EH for BALD (default: False),\n",
    "        training: If False, run test without MC dropout. (default=True)\n",
    "    \"\"\"\n",
    "    outputs, random_subset = predictions_from_pool(model, X_pool, T, training=training)\n",
    "    pc = outputs.mean(axis=0)\n",
    "    H = (-pc * np.log(pc + 1e-10)).sum(\n",
    "        axis=-1\n",
    "    )  # To avoid division with zero, add 1e-10\n",
    "    if E_H:\n",
    "        E = -np.mean(np.sum(outputs * np.log(outputs + 1e-10), axis=-1), axis=0)\n",
    "        return H, E, random_subset\n",
    "    return H, random_subset\n",
    "\n",
    "\n",
    "def max_entropy(\n",
    "    model, X_pool: np.ndarray, n_query: int = 10, T: int = 100, training: bool = True\n",
    "):\n",
    "    \"\"\"Choose pool points that maximise the predictive entropy.\n",
    "    Using Shannon entropy function.\n",
    "    Attributes:\n",
    "        model: Model that is ready to measure uncertainty after training,\n",
    "        X_pool: Pool set to select uncertainty,\n",
    "        n_query: Number of points that maximise max_entropy a(x) from pool set,\n",
    "        T: Number of MC dropout iterations aka training iterations,\n",
    "        training: If False, run test without MC dropout. (default=True)\n",
    "    \"\"\"\n",
    "    acquisition, random_subset = shannon_entropy_function(\n",
    "        model, X_pool, T, training=training\n",
    "    )\n",
    "    idx = (-acquisition).argsort()[:n_query]\n",
    "    query_idx = random_subset[idx]\n",
    "    return query_idx, X_pool[query_idx]\n",
    "\n",
    "\n",
    "def bald(\n",
    "    model, X_pool: np.ndarray, n_query: int = 10, T: int = 100, training: bool = True\n",
    "):\n",
    "    \"\"\"Choose pool points that are expected to maximise the information\n",
    "    gained about the model parameters, i.e. maximise the mutal information\n",
    "    between predictions and model posterior. Given\n",
    "    I[y,w|x,D_train] = H[y|x,D_train] - E_{p(w|D_train)}[H[y|x,w]]\n",
    "    with w the model parameters (H[y|x,w] is the entropy of y given w).\n",
    "    Points that maximise this acquisition function are points on which the\n",
    "    model is uncertain on average but there exist model parameters that produce\n",
    "    disagreeing predictions with high certainty. This is equivalent to points\n",
    "    with high variance in th einput to the softmax layer\n",
    "    Attributes:\n",
    "        model: Model that is ready to measure uncertainty after training,\n",
    "        X_pool: Pool set to select uncertainty,\n",
    "        n_query: Number of points that maximise bald a(x) from pool set,\n",
    "        T: Number of MC dropout iterations aka training iterations,\n",
    "        training: If False, run test without MC dropout. (default=True)\n",
    "    \"\"\"\n",
    "    H, E_H, random_subset = shannon_entropy_function(\n",
    "        model, X_pool, T, E_H=True, training=training\n",
    "    )\n",
    "    acquisition = H - E_H\n",
    "    idx = (-acquisition).argsort()[:n_query]\n",
    "    query_idx = random_subset[idx]\n",
    "    return query_idx, X_pool[query_idx]\n",
    "\n",
    "\n",
    "def var_ratios(\n",
    "    model, X_pool: np.ndarray, n_query: int = 10, T: int = 100, training: bool = True\n",
    "):\n",
    "    \"\"\"Like Max Entropy but Variational Ratios measures lack of confidence.\n",
    "    Given: variational_ratio[x] := 1 - max_{y} p(y|x,D_{train})\n",
    "    Attributes:\n",
    "        model: Model that is ready to measure uncertainty after training,\n",
    "        X_pool: Pool set to select uncertainty,\n",
    "        n_query: Number of points that maximise var_ratios a(x) from pool set,\n",
    "        T: Number of MC dropout iterations aka training iterations,\n",
    "        training: If False, run test without MC dropout. (default=True)\n",
    "    \"\"\"\n",
    "    outputs, random_subset = predictions_from_pool(model, X_pool, T, training)\n",
    "    preds = np.argmax(outputs, axis=2)\n",
    "    _, count = stats.mode(preds, axis=0)\n",
    "    acquisition = (1 - count / preds.shape[1]).reshape((-1,))\n",
    "    idx = (-acquisition).argsort()[:n_query]\n",
    "    query_idx = random_subset[idx]\n",
    "    return query_idx, X_pool[query_idx]"
   ]
  },
  {
   "cell_type": "markdown",
   "metadata": {
    "id": "eJlLlXgErSsB"
   },
   "source": [
    "## 2.1 Define CNN architecture"
   ]
  },
  {
   "cell_type": "code",
   "execution_count": 38,
   "metadata": {
    "id": "56w70llWrQLw"
   },
   "outputs": [],
   "source": [
    "class ConvNN(nn.Module):\n",
    "    def __init__(\n",
    "        self,\n",
    "        num_filters: int = 32,\n",
    "        kernel_size: int = 4,\n",
    "        dense_layer: int = 128,\n",
    "        img_rows: int = 28,\n",
    "        img_cols: int = 28,\n",
    "        maxpool: int = 2,\n",
    "    ):\n",
    "        \"\"\"\n",
    "        Basic Architecture of CNN\n",
    "        Attributes:\n",
    "            num_filters: Number of filters, out channel for 1st and 2nd conv layers,\n",
    "            kernel_size: Kernel size of convolution,\n",
    "            dense_layer: Dense layer units,\n",
    "            img_rows: Height of input image,\n",
    "            img_cols: Width of input image,\n",
    "            maxpool: Max pooling size\n",
    "        \"\"\"\n",
    "        super(ConvNN, self).__init__()\n",
    "        self.conv1 = nn.Conv2d(1, num_filters, kernel_size, 1)\n",
    "        self.conv2 = nn.Conv2d(num_filters, num_filters, kernel_size, 1)\n",
    "        self.dropout1 = nn.Dropout(0.25)\n",
    "        self.dropout2 = nn.Dropout(0.5)\n",
    "        self.fc1 = nn.Linear(\n",
    "            num_filters\n",
    "            * ((img_rows - 2 * kernel_size + 2) // 2)\n",
    "            * ((img_cols - 2 * kernel_size + 2) // 2),\n",
    "            dense_layer,\n",
    "        )\n",
    "        self.fc2 = nn.Linear(dense_layer, 10)\n",
    "\n",
    "    def forward(self, x: torch.Tensor) -> torch.Tensor:\n",
    "        x = self.conv1(x)\n",
    "        x = F.relu(x)\n",
    "        x = self.conv2(x)\n",
    "        x = F.relu(x)\n",
    "        x = F.max_pool2d(x, 2)\n",
    "        x = self.dropout1(x)\n",
    "        x = torch.flatten(x, 1)\n",
    "        x = self.fc1(x)\n",
    "        x = F.relu(x)\n",
    "        x = self.dropout2(x)\n",
    "        out = self.fc2(x)\n",
    "        return out"
   ]
  },
  {
   "cell_type": "markdown",
   "metadata": {
    "id": "JK6j5xTWtlQ6"
   },
   "source": [
    "## 2.2 Define Active Learning Procedure"
   ]
  },
  {
   "cell_type": "code",
   "execution_count": 39,
   "metadata": {
    "id": "qYcwmJmLtk71"
   },
   "outputs": [],
   "source": [
    "def active_learning_procedure(\n",
    "    query_strategy,\n",
    "    X_val: np.ndarray,\n",
    "    y_val: np.ndarray,\n",
    "    X_test: np.ndarray,\n",
    "    y_test: np.ndarray,\n",
    "    X_pool: np.ndarray,\n",
    "    y_pool: np.ndarray,\n",
    "    X_init: np.ndarray,\n",
    "    y_init: np.ndarray,\n",
    "    estimator,\n",
    "    T: int = 100,\n",
    "    n_query: int = 10,\n",
    "    training: bool = True,\n",
    "):\n",
    "    \"\"\"Active Learning Procedure\n",
    "    Attributes:\n",
    "        query_strategy: Choose between Uniform(baseline), max_entropy, bald,\n",
    "        X_val, y_val: Validation dataset,\n",
    "        X_test, y_test: Test dataset,\n",
    "        X_pool, y_pool: Query pool set,\n",
    "        X_init, y_init: Initial training set data points,\n",
    "        estimator: Neural Network architecture, e.g. CNN,\n",
    "        T: Number of MC dropout iterations (repeat acqusition process T times),\n",
    "        n_query: Number of points to query from X_pool,\n",
    "        training: If False, run test without MC Dropout (default: True)\n",
    "    \"\"\"\n",
    "    learner = ActiveLearner(\n",
    "        estimator=estimator,\n",
    "        X_training=X_init,\n",
    "        y_training=y_init,\n",
    "        query_strategy=query_strategy,\n",
    "    )\n",
    "    perf_hist = [learner.score(X_test, y_test)]\n",
    "    for index in range(T):\n",
    "        query_idx, query_instance = learner.query(\n",
    "            X_pool, n_query=n_query, T=T, training=training\n",
    "        )\n",
    "        learner.teach(X_pool[query_idx], y_pool[query_idx])\n",
    "        X_pool = np.delete(X_pool, query_idx, axis=0)\n",
    "        y_pool = np.delete(y_pool, query_idx, axis=0)\n",
    "        model_accuracy_val = learner.score(X_val, y_val)\n",
    "        if (index + 1) % 5 == 0:\n",
    "            print(f\"Val Accuracy after query {index+1}: {model_accuracy_val:0.4f}\")\n",
    "        perf_hist.append(model_accuracy_val)\n",
    "    model_accuracy_test = learner.score(X_test, y_test)\n",
    "    print(f\"********** Test Accuracy per experiment: {model_accuracy_test} **********\")\n",
    "    return perf_hist, model_accuracy_test"
   ]
  },
  {
   "cell_type": "markdown",
   "metadata": {
    "id": "4D60AF1Ns_lq"
   },
   "source": [
    "## 3.0 Define Hyperparameters"
   ]
  },
  {
   "cell_type": "code",
   "execution_count": 40,
   "metadata": {
    "colab": {
     "base_uri": "https://localhost:8080/"
    },
    "id": "RNxBdBcCrhji",
    "outputId": "7fb10d70-1a76-438f-859a-d4a2946c9d13"
   },
   "outputs": [
    {
     "name": "stdout",
     "output_type": "stream",
     "text": [
      "Using device: cpu\n"
     ]
    }
   ],
   "source": [
    "ACQ_FUNCS = [uniform, max_entropy, bald, var_ratios]\n",
    "BATCH_SIZE = 128\n",
    "DEVICE = torch.device(\"cuda:0\" if torch.cuda.is_available() else \"cpu\")\n",
    "DROPOUT_ITER = 100\n",
    "EPOCHS = 50\n",
    "EXPERIMENTS = 3\n",
    "N_QUERY = 10\n",
    "LR = 1e-3\n",
    "RESULT_DIR = \"result_npy\"\n",
    "SEED = 369\n",
    "\n",
    "\n",
    "if not os.path.exists(RESULT_DIR):\n",
    "    os.mkdir(RESULT_DIR)\n",
    "\n",
    "\n",
    "print(f\"Using device: {DEVICE}\")"
   ]
  },
  {
   "cell_type": "markdown",
   "metadata": {
    "id": "gVwhZQA8CXSX"
   },
   "source": [
    "## 3.1 Functions"
   ]
  },
  {
   "cell_type": "code",
   "execution_count": 41,
   "metadata": {
    "id": "zggFu_63rd2n"
   },
   "outputs": [],
   "source": [
    "def load_CNN_model():\n",
    "    \"\"\"Load new model each time for different acqusition function\n",
    "    each experiments\"\"\"\n",
    "    model = ConvNN().to(DEVICE)\n",
    "    cnn_classifier = NeuralNetClassifier(\n",
    "        module=model,\n",
    "        lr=LR,\n",
    "        batch_size=BATCH_SIZE,\n",
    "        max_epochs=EPOCHS,\n",
    "        criterion=nn.CrossEntropyLoss,\n",
    "        optimizer=torch.optim.Adam,\n",
    "        train_split=None,\n",
    "        verbose=0,\n",
    "        device=DEVICE,\n",
    "    )\n",
    "    return cnn_classifier\n",
    "\n",
    "\n",
    "def save_as_npy(data: np.ndarray, name: str):\n",
    "    \"\"\"Save result as npy file\n",
    "    \n",
    "    Attributes:\n",
    "        data: np array to be saved as npy file,\n",
    "        folder: result folder name,\n",
    "        name: npy filename\n",
    "    \"\"\"\n",
    "    file_name = os.path.join(RESULT_DIR, name+\".npy\")\n",
    "    np.save(file_name, data)\n",
    "    print(f\"Saved: {file_name}\")\n",
    "\n",
    "\n",
    "def plot_results(data: dict):\n",
    "    \"\"\"Plot results histogram using matplotlib\"\"\"\n",
    "    sns.set()\n",
    "    plt.figure(figsize=(7,5))\n",
    "    for key in data.keys():\n",
    "        data[key] = gaussian_filter1d(data[key], sigma=0.9) # for smoother graph\n",
    "        plt.plot(data[key], label=key)\n",
    "    plt.ylim([0.94, 1.00])\n",
    "    plt.legend()\n",
    "    plt.show()\n",
    "\n",
    "\n",
    "def print_elapsed_time(start_time: float, exp: int, acq_func: str):\n",
    "    \"\"\"Print elapsed time for each experiment of acquiring\n",
    "    Attributes:\n",
    "        start_time: Starting time (in time.time()),\n",
    "        exp: Experiment iteration\n",
    "        acq_func: Name of acquisition function\n",
    "    \"\"\"\n",
    "    elp = time.time() - start_time\n",
    "    print(\n",
    "        f\"********** Experiment {exp} ({acq_func}): {int(elp//3600)}:\\\n",
    "        {int(elp%3600//60)}:{int(elp%60)} **********\")"
   ]
  },
  {
   "cell_type": "code",
   "execution_count": 42,
   "metadata": {},
   "outputs": [],
   "source": [
    "acq_func=bald_step"
   ]
  },
  {
   "cell_type": "code",
   "execution_count": 43,
   "metadata": {},
   "outputs": [],
   "source": [
    "start_time = time.time()\n",
    "estimator = load_CNN_model()\n"
   ]
  },
  {
   "cell_type": "code",
   "execution_count": 44,
   "metadata": {},
   "outputs": [],
   "source": [
    "def bald_step(\n",
    "    model, X_pool: np.ndarray, n_query: int = 10, T: int = 100, training: bool = True\n",
    "):\n",
    "    \"\"\"Choose pool points that are expected to maximise the information\n",
    "    gained about the model parameters, i.e. maximise the mutal information\n",
    "    between predictions and model posterior. Given\n",
    "    I[y,w|x,D_train] = H[y|x,D_train] - E_{p(w|D_train)}[H[y|x,w]]\n",
    "    with w the model parameters (H[y|x,w] is the entropy of y given w).\n",
    "    Points that maximise this acquisition function are points on which the\n",
    "    model is uncertain on average but there exist model parameters that produce\n",
    "    disagreeing predictions with high certainty. This is equivalent to points\n",
    "    with high variance in th einput to the softmax layer\n",
    "    Attributes:\n",
    "        model: Model that is ready to measure uncertainty after training,\n",
    "        X_pool: Pool set to select uncertainty,\n",
    "        n_query: Number of points that maximise bald a(x) from pool set,\n",
    "        T: Number of MC dropout iterations aka training iterations,\n",
    "        training: If False, run test without MC dropout. (default=True)\n",
    "    \"\"\"\n",
    "    H, E_H, random_subset = shannon_entropy_function(\n",
    "        model, X_pool, T, E_H=True, training=training\n",
    "    )\n",
    "    acquisition = H - E_H\n",
    "    idx = (-acquisition).argsort()[:n_query]\n",
    "    query_idx = random_subset[idx]\n",
    "    return query_idx, X_pool[query_idx]\n"
   ]
  },
  {
   "cell_type": "code",
   "execution_count": 45,
   "metadata": {},
   "outputs": [],
   "source": [
    "learner = ActiveLearner(\n",
    "        estimator=estimator,\n",
    "        X_training=X_init,\n",
    "        y_training=y_init,\n",
    "        query_strategy=acq_func,\n",
    "    )"
   ]
  },
  {
   "cell_type": "code",
   "execution_count": 46,
   "metadata": {},
   "outputs": [],
   "source": [
    "perf_hist = [learner.score(X_test, y_test)]"
   ]
  },
  {
   "cell_type": "code",
   "execution_count": 29,
   "metadata": {},
   "outputs": [
    {
     "data": {
      "text/plain": [
       "[0.8626]"
      ]
     },
     "execution_count": 29,
     "metadata": {},
     "output_type": "execute_result"
    }
   ],
   "source": [
    "perf_hist"
   ]
  },
  {
   "cell_type": "code",
   "execution_count": null,
   "metadata": {},
   "outputs": [],
   "source": []
  },
  {
   "cell_type": "code",
   "execution_count": 48,
   "metadata": {},
   "outputs": [
    {
     "name": "stdout",
     "output_type": "stream",
     "text": [
      "Val Accuracy after query 5: 0.9567\n",
      "Val Accuracy after query 10: 0.9867\n",
      "Val Accuracy after query 15: 0.9867\n",
      "Val Accuracy after query 20: 0.9867\n",
      "Val Accuracy after query 25: 0.9900\n",
      "Val Accuracy after query 30: 0.9900\n",
      "Val Accuracy after query 35: 0.9900\n",
      "Val Accuracy after query 40: 0.9967\n",
      "Val Accuracy after query 45: 0.9833\n",
      "Val Accuracy after query 50: 0.9900\n"
     ]
    },
    {
     "ename": "ValueError",
     "evalue": "Cannot take a larger sample than population when 'replace=False'",
     "output_type": "error",
     "traceback": [
      "\u001b[0;31m---------------------------------------------------------------------------\u001b[0m",
      "\u001b[0;31mValueError\u001b[0m                                Traceback (most recent call last)",
      "\u001b[0;32m/var/folders/6r/g5tc0jb96xq5g5_dw6sxzrx40000gn/T/ipykernel_41687/2235102757.py\u001b[0m in \u001b[0;36m<module>\u001b[0;34m\u001b[0m\n\u001b[0;32m----> 1\u001b[0;31m training_hist, test_score = active_learning_procedure(\n\u001b[0m\u001b[1;32m      2\u001b[0m     \u001b[0mquery_strategy\u001b[0m\u001b[0;34m=\u001b[0m\u001b[0macq_func\u001b[0m\u001b[0;34m,\u001b[0m\u001b[0;34m\u001b[0m\u001b[0;34m\u001b[0m\u001b[0m\n\u001b[1;32m      3\u001b[0m     \u001b[0mX_val\u001b[0m\u001b[0;34m=\u001b[0m\u001b[0mX_val\u001b[0m\u001b[0;34m,\u001b[0m\u001b[0;34m\u001b[0m\u001b[0;34m\u001b[0m\u001b[0m\n\u001b[1;32m      4\u001b[0m     \u001b[0my_val\u001b[0m\u001b[0;34m=\u001b[0m\u001b[0my_val\u001b[0m\u001b[0;34m,\u001b[0m\u001b[0;34m\u001b[0m\u001b[0;34m\u001b[0m\u001b[0m\n\u001b[1;32m      5\u001b[0m     \u001b[0mX_test\u001b[0m\u001b[0;34m=\u001b[0m\u001b[0mX_test\u001b[0m\u001b[0;34m,\u001b[0m\u001b[0;34m\u001b[0m\u001b[0;34m\u001b[0m\u001b[0m\n",
      "\u001b[0;32m/var/folders/6r/g5tc0jb96xq5g5_dw6sxzrx40000gn/T/ipykernel_41687/1119045582.py\u001b[0m in \u001b[0;36mactive_learning_procedure\u001b[0;34m(query_strategy, X_val, y_val, X_test, y_test, X_pool, y_pool, X_init, y_init, estimator, T, n_query, training)\u001b[0m\n\u001b[1;32m     34\u001b[0m     \u001b[0mperf_hist\u001b[0m \u001b[0;34m=\u001b[0m \u001b[0;34m[\u001b[0m\u001b[0mlearner\u001b[0m\u001b[0;34m.\u001b[0m\u001b[0mscore\u001b[0m\u001b[0;34m(\u001b[0m\u001b[0mX_test\u001b[0m\u001b[0;34m,\u001b[0m \u001b[0my_test\u001b[0m\u001b[0;34m)\u001b[0m\u001b[0;34m]\u001b[0m\u001b[0;34m\u001b[0m\u001b[0;34m\u001b[0m\u001b[0m\n\u001b[1;32m     35\u001b[0m     \u001b[0;32mfor\u001b[0m \u001b[0mindex\u001b[0m \u001b[0;32min\u001b[0m \u001b[0mrange\u001b[0m\u001b[0;34m(\u001b[0m\u001b[0mT\u001b[0m\u001b[0;34m)\u001b[0m\u001b[0;34m:\u001b[0m\u001b[0;34m\u001b[0m\u001b[0;34m\u001b[0m\u001b[0m\n\u001b[0;32m---> 36\u001b[0;31m         query_idx, query_instance = learner.query(\n\u001b[0m\u001b[1;32m     37\u001b[0m             \u001b[0mX_pool\u001b[0m\u001b[0;34m,\u001b[0m \u001b[0mn_query\u001b[0m\u001b[0;34m=\u001b[0m\u001b[0mn_query\u001b[0m\u001b[0;34m,\u001b[0m \u001b[0mT\u001b[0m\u001b[0;34m=\u001b[0m\u001b[0mT\u001b[0m\u001b[0;34m,\u001b[0m \u001b[0mtraining\u001b[0m\u001b[0;34m=\u001b[0m\u001b[0mtraining\u001b[0m\u001b[0;34m\u001b[0m\u001b[0;34m\u001b[0m\u001b[0m\n\u001b[1;32m     38\u001b[0m         )\n",
      "\u001b[0;32m~/opt/anaconda3/envs/TEST/lib/python3.9/site-packages/modAL/models/base.py\u001b[0m in \u001b[0;36mquery\u001b[0;34m(self, X_pool, *query_args, **query_kwargs)\u001b[0m\n\u001b[1;32m    251\u001b[0m             \u001b[0mlabelled\u001b[0m \u001b[0mupon\u001b[0m \u001b[0mquery\u001b[0m \u001b[0msynthesis\u001b[0m\u001b[0;34m.\u001b[0m\u001b[0;34m\u001b[0m\u001b[0;34m\u001b[0m\u001b[0m\n\u001b[1;32m    252\u001b[0m         \"\"\"\n\u001b[0;32m--> 253\u001b[0;31m         \u001b[0mquery_result\u001b[0m \u001b[0;34m=\u001b[0m \u001b[0mself\u001b[0m\u001b[0;34m.\u001b[0m\u001b[0mquery_strategy\u001b[0m\u001b[0;34m(\u001b[0m\u001b[0mself\u001b[0m\u001b[0;34m,\u001b[0m \u001b[0mX_pool\u001b[0m\u001b[0;34m,\u001b[0m \u001b[0;34m*\u001b[0m\u001b[0mquery_args\u001b[0m\u001b[0;34m,\u001b[0m \u001b[0;34m**\u001b[0m\u001b[0mquery_kwargs\u001b[0m\u001b[0;34m)\u001b[0m\u001b[0;34m\u001b[0m\u001b[0;34m\u001b[0m\u001b[0m\n\u001b[0m\u001b[1;32m    254\u001b[0m \u001b[0;34m\u001b[0m\u001b[0m\n\u001b[1;32m    255\u001b[0m         \u001b[0;32mif\u001b[0m \u001b[0misinstance\u001b[0m\u001b[0;34m(\u001b[0m\u001b[0mquery_result\u001b[0m\u001b[0;34m,\u001b[0m \u001b[0mtuple\u001b[0m\u001b[0;34m)\u001b[0m\u001b[0;34m:\u001b[0m\u001b[0;34m\u001b[0m\u001b[0;34m\u001b[0m\u001b[0m\n",
      "\u001b[0;32m/var/folders/6r/g5tc0jb96xq5g5_dw6sxzrx40000gn/T/ipykernel_41687/282735319.py\u001b[0m in \u001b[0;36mbald_step\u001b[0;34m(model, X_pool, n_query, T, training)\u001b[0m\n\u001b[1;32m     18\u001b[0m         \u001b[0mtraining\u001b[0m\u001b[0;34m:\u001b[0m \u001b[0mIf\u001b[0m \u001b[0;32mFalse\u001b[0m\u001b[0;34m,\u001b[0m \u001b[0mrun\u001b[0m \u001b[0mtest\u001b[0m \u001b[0mwithout\u001b[0m \u001b[0mMC\u001b[0m \u001b[0mdropout\u001b[0m\u001b[0;34m.\u001b[0m \u001b[0;34m(\u001b[0m\u001b[0mdefault\u001b[0m\u001b[0;34m=\u001b[0m\u001b[0;32mTrue\u001b[0m\u001b[0;34m)\u001b[0m\u001b[0;34m\u001b[0m\u001b[0;34m\u001b[0m\u001b[0m\n\u001b[1;32m     19\u001b[0m     \"\"\"\n\u001b[0;32m---> 20\u001b[0;31m     H, E_H, random_subset = shannon_entropy_function(\n\u001b[0m\u001b[1;32m     21\u001b[0m         \u001b[0mmodel\u001b[0m\u001b[0;34m,\u001b[0m \u001b[0mX_pool\u001b[0m\u001b[0;34m,\u001b[0m \u001b[0mT\u001b[0m\u001b[0;34m,\u001b[0m \u001b[0mE_H\u001b[0m\u001b[0;34m=\u001b[0m\u001b[0;32mTrue\u001b[0m\u001b[0;34m,\u001b[0m \u001b[0mtraining\u001b[0m\u001b[0;34m=\u001b[0m\u001b[0mtraining\u001b[0m\u001b[0;34m\u001b[0m\u001b[0;34m\u001b[0m\u001b[0m\n\u001b[1;32m     22\u001b[0m     )\n",
      "\u001b[0;32m/var/folders/6r/g5tc0jb96xq5g5_dw6sxzrx40000gn/T/ipykernel_41687/402470442.py\u001b[0m in \u001b[0;36mshannon_entropy_function\u001b[0;34m(model, X_pool, T, E_H, training)\u001b[0m\n\u001b[1;32m     51\u001b[0m         \u001b[0mtraining\u001b[0m\u001b[0;34m:\u001b[0m \u001b[0mIf\u001b[0m \u001b[0;32mFalse\u001b[0m\u001b[0;34m,\u001b[0m \u001b[0mrun\u001b[0m \u001b[0mtest\u001b[0m \u001b[0mwithout\u001b[0m \u001b[0mMC\u001b[0m \u001b[0mdropout\u001b[0m\u001b[0;34m.\u001b[0m \u001b[0;34m(\u001b[0m\u001b[0mdefault\u001b[0m\u001b[0;34m=\u001b[0m\u001b[0;32mTrue\u001b[0m\u001b[0;34m)\u001b[0m\u001b[0;34m\u001b[0m\u001b[0;34m\u001b[0m\u001b[0m\n\u001b[1;32m     52\u001b[0m     \"\"\"\n\u001b[0;32m---> 53\u001b[0;31m     \u001b[0moutputs\u001b[0m\u001b[0;34m,\u001b[0m \u001b[0mrandom_subset\u001b[0m \u001b[0;34m=\u001b[0m \u001b[0mpredictions_from_pool\u001b[0m\u001b[0;34m(\u001b[0m\u001b[0mmodel\u001b[0m\u001b[0;34m,\u001b[0m \u001b[0mX_pool\u001b[0m\u001b[0;34m,\u001b[0m \u001b[0mT\u001b[0m\u001b[0;34m,\u001b[0m \u001b[0mtraining\u001b[0m\u001b[0;34m=\u001b[0m\u001b[0mtraining\u001b[0m\u001b[0;34m)\u001b[0m\u001b[0;34m\u001b[0m\u001b[0;34m\u001b[0m\u001b[0m\n\u001b[0m\u001b[1;32m     54\u001b[0m     \u001b[0mpc\u001b[0m \u001b[0;34m=\u001b[0m \u001b[0moutputs\u001b[0m\u001b[0;34m.\u001b[0m\u001b[0mmean\u001b[0m\u001b[0;34m(\u001b[0m\u001b[0maxis\u001b[0m\u001b[0;34m=\u001b[0m\u001b[0;36m0\u001b[0m\u001b[0;34m)\u001b[0m\u001b[0;34m\u001b[0m\u001b[0;34m\u001b[0m\u001b[0m\n\u001b[1;32m     55\u001b[0m     H = (-pc * np.log(pc + 1e-10)).sum(\n",
      "\u001b[0;32m/var/folders/6r/g5tc0jb96xq5g5_dw6sxzrx40000gn/T/ipykernel_41687/402470442.py\u001b[0m in \u001b[0;36mpredictions_from_pool\u001b[0;34m(model, X_pool, T, training)\u001b[0m\n\u001b[1;32m      8\u001b[0m         \u001b[0mtraining\u001b[0m\u001b[0;34m:\u001b[0m \u001b[0mIf\u001b[0m \u001b[0;32mFalse\u001b[0m\u001b[0;34m,\u001b[0m \u001b[0mrun\u001b[0m \u001b[0mtest\u001b[0m \u001b[0mwithout\u001b[0m \u001b[0mMC\u001b[0m \u001b[0mdropout\u001b[0m\u001b[0;34m.\u001b[0m \u001b[0;34m(\u001b[0m\u001b[0mdefault\u001b[0m\u001b[0;34m=\u001b[0m\u001b[0;32mTrue\u001b[0m\u001b[0;34m)\u001b[0m\u001b[0;34m\u001b[0m\u001b[0;34m\u001b[0m\u001b[0m\n\u001b[1;32m      9\u001b[0m     \"\"\"\n\u001b[0;32m---> 10\u001b[0;31m     \u001b[0mrandom_subset\u001b[0m \u001b[0;34m=\u001b[0m \u001b[0mnp\u001b[0m\u001b[0;34m.\u001b[0m\u001b[0mrandom\u001b[0m\u001b[0;34m.\u001b[0m\u001b[0mchoice\u001b[0m\u001b[0;34m(\u001b[0m\u001b[0mrange\u001b[0m\u001b[0;34m(\u001b[0m\u001b[0mlen\u001b[0m\u001b[0;34m(\u001b[0m\u001b[0mX_pool\u001b[0m\u001b[0;34m)\u001b[0m\u001b[0;34m)\u001b[0m\u001b[0;34m,\u001b[0m \u001b[0msize\u001b[0m\u001b[0;34m=\u001b[0m\u001b[0;36m500\u001b[0m\u001b[0;34m,\u001b[0m \u001b[0mreplace\u001b[0m\u001b[0;34m=\u001b[0m\u001b[0;32mFalse\u001b[0m\u001b[0;34m)\u001b[0m\u001b[0;34m\u001b[0m\u001b[0;34m\u001b[0m\u001b[0m\n\u001b[0m\u001b[1;32m     11\u001b[0m     \u001b[0;32mwith\u001b[0m \u001b[0mtorch\u001b[0m\u001b[0;34m.\u001b[0m\u001b[0mno_grad\u001b[0m\u001b[0;34m(\u001b[0m\u001b[0;34m)\u001b[0m\u001b[0;34m:\u001b[0m\u001b[0;34m\u001b[0m\u001b[0;34m\u001b[0m\u001b[0m\n\u001b[1;32m     12\u001b[0m         outputs = np.stack(\n",
      "\u001b[0;32mmtrand.pyx\u001b[0m in \u001b[0;36mnumpy.random.mtrand.RandomState.choice\u001b[0;34m()\u001b[0m\n",
      "\u001b[0;31mValueError\u001b[0m: Cannot take a larger sample than population when 'replace=False'"
     ]
    }
   ],
   "source": [
    "\n",
    "training_hist, test_score = active_learning_procedure(\n",
    "    query_strategy=acq_func,\n",
    "    X_val=X_val,\n",
    "    y_val=y_val,\n",
    "    X_test=X_test,\n",
    "    y_test=y_test,\n",
    "    X_pool=X_pool,\n",
    "    y_pool=y_pool,\n",
    "    X_init=X_init,\n",
    "    y_init=y_init,\n",
    "    estimator=estimator,\n",
    "    T=DROPOUT_ITER,\n",
    "    n_query=N_QUERY\n",
    ")"
   ]
  },
  {
   "cell_type": "code",
   "execution_count": null,
   "metadata": {},
   "outputs": [],
   "source": []
  },
  {
   "cell_type": "markdown",
   "metadata": {
    "id": "5qX90gRwDP1-"
   },
   "source": [
    "## 4.0 Start Active Learning with Acquisition Functions\n",
    "- random\n",
    "- max_entropy\n",
    "- bald\n",
    "- var ratios"
   ]
  },
  {
   "cell_type": "code",
   "execution_count": null,
   "metadata": {
    "id": "UKNT8FFQEbwK"
   },
   "outputs": [
    {
     "name": "stdout",
     "output_type": "stream",
     "text": [
      "\n",
      "---------- Start uniform training! ----------\n",
      "********** Experiment Iterations: 1/3 **********\n"
     ]
    },
    {
     "name": "stderr",
     "output_type": "stream",
     "text": [
      "/Users/riiid/opt/anaconda3/envs/TEST/lib/python3.9/site-packages/torch/nn/functional.py:718: UserWarning: Named tensors and all their associated APIs are an experimental feature and subject to change. Please do not use them for anything important until they are released as stable. (Triggered internally at  /Users/distiller/project/conda/conda-bld/pytorch_1623459065530/work/c10/core/TensorImpl.h:1156.)\n",
      "  return torch.max_pool2d(input, kernel_size, stride, padding, dilation, ceil_mode)\n"
     ]
    },
    {
     "name": "stdout",
     "output_type": "stream",
     "text": [
      "Val Accuracy after query 5: 0.9300\n",
      "Val Accuracy after query 10: 0.9600\n"
     ]
    }
   ],
   "source": [
    "results = dict()\n",
    "\n",
    "\n",
    "for i, acq_func in enumerate(ACQ_FUNCS):\n",
    "    avg_hist = []\n",
    "    test_scores = []\n",
    "    acq_func_name = str(acq_func).split(\" \")[1]\n",
    "    print(f\"\\n---------- Start {acq_func_name} training! ----------\")\n",
    "    for e in range(EXPERIMENTS):\n",
    "        start_time = time.time()\n",
    "        estimator = load_CNN_model()\n",
    "        print(\n",
    "            f\"********** Experiment Iterations: {e+1}/{EXPERIMENTS} **********\"\n",
    "        )\n",
    "        training_hist, test_score = active_learning_procedure(\n",
    "            query_strategy=acq_func,\n",
    "            X_val=X_val,\n",
    "            y_val=y_val,\n",
    "            X_test=X_test,\n",
    "            y_test=y_test,\n",
    "            X_pool=X_pool,\n",
    "            y_pool=y_pool,\n",
    "            X_init=X_init,\n",
    "            y_init=y_init,\n",
    "            estimator=estimator,\n",
    "            T=DROPOUT_ITER,\n",
    "            n_query=N_QUERY\n",
    "        )\n",
    "        avg_hist.append(training_hist)\n",
    "        test_scores.append(test_score)\n",
    "        print_elapsed_time(start_time, e + 1, acq_func_name)\n",
    "    avg_hist = np.average(np.array(avg_hist), axis=0)\n",
    "    avg_test = sum(test_scores) / len(test_scores)\n",
    "    print(f\"Average Test score for {acq_func_name}: {avg_test}\")\n",
    "    results[acq_func_name] = avg_hist\n",
    "    save_as_npy(data=avg_hist, name=acq_func_name)\n",
    "\n",
    "\n",
    "print(\"--------------- Done Training! ---------------\")"
   ]
  },
  {
   "cell_type": "markdown",
   "metadata": {
    "id": "ICiCuHD0Ffu7"
   },
   "source": [
    "## 4.1 Plot Deep Bayesian Active Learning Results"
   ]
  },
  {
   "cell_type": "code",
   "execution_count": null,
   "metadata": {
    "id": "cGZX8-H0FPzN"
   },
   "outputs": [],
   "source": [
    "plot_results(data=results)"
   ]
  },
  {
   "cell_type": "markdown",
   "metadata": {
    "id": "fbIC-jFGFNze"
   },
   "source": [
    "## 5.0 MBR - Kernel Matrix (W) \n",
    "Use 20 initial datapoints."
   ]
  },
  {
   "cell_type": "code",
   "execution_count": null,
   "metadata": {
    "id": "AWtIMq2XGMhE"
   },
   "outputs": [],
   "source": [
    "from sklearn.metrics.pairwise import rbf_kernel\n",
    "\n",
    "\n",
    "def kernel_matrix(X_datapoints):\n",
    "    X_datapoints = X_datapoints.reshape(X_datapoints.shape[0], -1)\n",
    "    W = rbf_kernel(X_datapoints, X_datapoints)\n",
    "    return W"
   ]
  },
  {
   "cell_type": "markdown",
   "metadata": {
    "id": "kURUcSACHRLt"
   },
   "source": [
    "## 5.1 MBR - Combinatorial Laplacian (Delta)"
   ]
  },
  {
   "cell_type": "code",
   "execution_count": null,
   "metadata": {
    "id": "To1syK-QHGBJ"
   },
   "outputs": [],
   "source": [
    "def combinatorial_laplacian(W):\n",
    "    \"\"\"Compute the combinatorial laplacian given edge weight matrix W\"\"\"\n",
    "    # the degree matrix -- sum up edge weights for each node\n",
    "    D = np.diag(np.sum(W, axis=1))\n",
    "\n",
    "    # the combinatorial laplacian\n",
    "    Delta = D - W\n",
    "    return Delta\n",
    "\n",
    "def to_categorical(y, num_classes=2):\n",
    "    \"\"\" 1-hot encodes a tensor \"\"\"\n",
    "    return np.eye(num_classes, dtype='uint8')[y]"
   ]
  },
  {
   "cell_type": "markdown",
   "metadata": {
    "id": "eXw0T1yUIMZU"
   },
   "source": [
    "## 5.2 MBR - Harmonic Function"
   ]
  },
  {
   "cell_type": "code",
   "execution_count": null,
   "metadata": {
    "id": "mD2FliUkoJEj"
   },
   "outputs": [],
   "source": [
    "def harmonic_function(X_train, y_train, Delta):\n",
    "    Delta_ll = Delta[0:X_train.shape[0], 0:X_train.shape[0]]\n",
    "    Delta_ul = Delta[X_train.shape[0]:, 0:X_train.shape[0]]\n",
    "    Delta_lu = Delta[0:X_train.shape[0], X_train.shape[0]:]\n",
    "    Delta_uu = Delta[X_train.shape[0]:, X_train.shape[0]:]\n",
    "\n",
    "    inv_Delta_uu = np.linalg.pinv(Delta_uu)\n",
    "    Original_f_L = y_train\n",
    "    Delta_mult = np.dot(inv_Delta_uu, Delta_ul)\n",
    "    Original_f_U = - np.dot(Delta_mult, Original_f_L)\t\t\t\n",
    "\n",
    "    #f_I is the entire harmonic function over all the data points (U + L)\n",
    "    Original_f_I = np.concatenate((Original_f_L, Original_f_U), axis=0)\n",
    "    return Original_f_I, Original_f_L"
   ]
  },
  {
   "cell_type": "markdown",
   "metadata": {
    "id": "NMwfHYyGpWa-"
   },
   "source": [
    "## 5.3 Compute Bayes Risk"
   ]
  },
  {
   "cell_type": "code",
   "execution_count": null,
   "metadata": {
    "id": "afLxfwIkpZto"
   },
   "outputs": [],
   "source": [
    "def minimum_bayes_risk(\n",
    "    model,\n",
    "    X_pool, \n",
    "    y_pool, \n",
    "    X_train, \n",
    "    y_train,\n",
    "    Delta,\n",
    "    n_query,\n",
    "    Original_f_I,\n",
    "    Original_f_L\n",
    "):\n",
    "    \"\"\"Compute Bayes Risk for all pool points in acquisition iteration\"\"\"\n",
    "    pool_subset_idx = np.random.choice(range(len(X_pool)), size=1000, replace=False)\n",
    "    X_pool_points = X_pool[pool_subset_idx]\n",
    "    y_pool_points = y_pool[pool_subset_idx]\n",
    "    X_train_temp = np.concatenate((X_train, X_pool_points), axis=0)\n",
    "    y_train_temp = np.concatenate((y_train, y_pool_points), axis=0)\n",
    "    X_pool_temp = np.delete(X_pool, pool_subset_idx, axis=0)\n",
    "\n",
    "    f_I, f_l = harmonic_function(X_train_temp, y_train_temp, Delta)\n",
    "\n",
    "    # Compute new estimate Bayes Risk\n",
    "    R = np.array([0])\n",
    "    for m in range(f_I.shape[0]):\n",
    "        val_f_I = f_I[m]\n",
    "        other_val_f_I = 1 - val_f_I\n",
    "        min_val = np.amin(np.array([val_f_I, other_val_f_I]))\n",
    "        R = R + min_val\n",
    "    Estimated_Risk = R\n",
    "\n",
    "    #we need f_k values for each pool point in consideration\n",
    "    f_All_Pool = Original_f_I[Original_f_L.shape[0]:]\n",
    "    f_k = f_All_Pool[500]\n",
    "    Bayes_Risk = (1 - f_k) * Estimated_Risk + (f_k)*Estimated_Risk\n",
    "\n",
    "    query_idx = np.argsort(Bayes_Risk.flatten())[-n_query:]\n",
    "    return query_idx, X_pool[query_idx]"
   ]
  },
  {
   "cell_type": "markdown",
   "metadata": {
    "id": "9U94Gf1GTGEO"
   },
   "source": [
    "## 6.0 Define MBR Procedure"
   ]
  },
  {
   "cell_type": "code",
   "execution_count": null,
   "metadata": {
    "id": "636z7BTRWr3P"
   },
   "outputs": [],
   "source": [
    "def MBR_procedure(\n",
    "    X_val: np.ndarray,\n",
    "    y_val: np.ndarray,\n",
    "    X_test: np.ndarray,\n",
    "    y_test: np.ndarray,\n",
    "    X_pool: np.ndarray,\n",
    "    y_pool: np.ndarray,\n",
    "    X_train: np.ndarray,\n",
    "    y_train: np.ndarray,\n",
    "    X_init: np.ndarray,\n",
    "    y_init: np.ndarray,\n",
    "    estimator,\n",
    "    T: int = 100,\n",
    "    n_query: int = 10,\n",
    "    query_strategy = minimum_bayes_risk\n",
    "):\n",
    "    \"\"\"MBR Procedure\n",
    "    Attributes:\n",
    "        X_val, y_val: Validation dataset,\n",
    "        X_test, y_test: Test dataset,\n",
    "        X_pool, y_pool: Query pool set,\n",
    "        X_train, y_train: Training set,\n",
    "        X_init, y_init: Initial training set,\n",
    "        estimator: Neural Network architecture, e.g. CNN,\n",
    "        T: Number of iterations (repeat acqusition process T times),\n",
    "        n_query: Number of points to query from X_pool,\n",
    "        query_strategy: MBR to query points from pool\n",
    "    \"\"\"\n",
    "    learner = ActiveLearner(\n",
    "        estimator=estimator,\n",
    "        X_training=X_init,\n",
    "        y_training=y_init,\n",
    "        query_strategy=query_strategy,\n",
    "    )\n",
    "    perf_hist = [learner.score(X_test, y_test)]\n",
    "    \n",
    "    X_train_pool = np.concatenate((X_train, X_pool), axis=0)\n",
    "    W = kernel_matrix(X_train_pool)\n",
    "    delta = combinatorial_laplacian(W)\n",
    "    print(f\"Delta shape: {delta.shape} (n*n)\")\n",
    "\n",
    "    original_f_I, original_f_L = harmonic_function(X_train, y_train, delta)\n",
    "\n",
    "    for index in range(T):\n",
    "        query_idx, query_instance = learner.query(\n",
    "            X_pool=X_pool,\n",
    "            y_pool=y_pool,\n",
    "            X_train=X_train,\n",
    "            y_train=y_train,\n",
    "            Delta=delta,\n",
    "            Original_f_I=original_f_I,\n",
    "            Original_f_L=original_f_L,\n",
    "            n_query=10\n",
    "        )\n",
    "        learner.teach(X_pool[query_idx], y_pool[query_idx])\n",
    "        X_train = np.concatenate((X_train, X_pool[query_idx]), axis=0)\n",
    "        y_train = np.concatenate((y_train, y_pool[query_idx]), axis=0)\n",
    "        X_pool = np.delete(X_pool, query_idx, axis=0)\n",
    "        y_pool = np.delete(y_pool, query_idx, axis=0)\n",
    "\n",
    "        model_accuracy_val = learner.score(X_val, y_val)\n",
    "        if (index+1)%5 == 0:\n",
    "            print(f\"Val Accuracy after iteration {index+1}: {model_accuracy_val:0.4f}\")\n",
    "        perf_hist.append(model_accuracy_val)\n",
    "    model_accuracy_test = learner.score(X_test, y_test)\n",
    "    print(f\"********** Test Accuracy per experiment: {model_accuracy_test} **********\")\n",
    "    return perf_hist, model_accuracy_test"
   ]
  },
  {
   "cell_type": "markdown",
   "metadata": {
    "id": "cTV5x8lnRDiw"
   },
   "source": [
    "## 6.1 Choose 3 different pool dataset"
   ]
  },
  {
   "cell_type": "code",
   "execution_count": null,
   "metadata": {
    "colab": {
     "base_uri": "https://localhost:8080/"
    },
    "id": "I3cD9tSpEN9l",
    "outputId": "c8ee807f-61f1-44a2-bb24-08a42f79dddf"
   },
   "outputs": [],
   "source": [
    "X_pool_1 = X_pool[:2000]\n",
    "y_pool_1 = y_pool[:2000]\n",
    "X_pool_2 = X_pool[6000:8000]\n",
    "y_pool_2 = y_pool[6000:8000]\n",
    "X_pool_3 = X_pool[10000:12000]\n",
    "y_pool_3 = y_pool[10000:12000]\n",
    "\n",
    "\n",
    "X_pool_list = [X_pool_1, X_pool_2, X_pool_3]\n",
    "y_pool_list = [y_pool_1, y_pool_2, y_pool_3]\n",
    "print(len(X_pool_list))\n",
    "print(X_pool_list[2].shape)"
   ]
  },
  {
   "cell_type": "markdown",
   "metadata": {
    "id": "NA-AIiJBRKR9"
   },
   "source": [
    "## 7.0 Start MBR Training"
   ]
  },
  {
   "cell_type": "code",
   "execution_count": null,
   "metadata": {
    "colab": {
     "base_uri": "https://localhost:8080/"
    },
    "id": "9Z_9nbIt0xCq",
    "outputId": "c0444922-bbb4-4d64-a56a-38cb222e0ac9"
   },
   "outputs": [],
   "source": [
    "print(f\"Using X_pool size of: {X_pool_1.shape}, {len(X_pool_list)} sets.\")\n",
    "avg_hist = []\n",
    "\n",
    "for e in range(3):\n",
    "    estimator = load_CNN_model()\n",
    "    print(f\"Done load model!\")\n",
    "    X_pool = X_pool_list[e]\n",
    "    y_pool = y_pool_list[e]\n",
    "    start_time = time.time()\n",
    "    hist, acc = MBR_procedure(\n",
    "        X_val=X_val, \n",
    "        y_val=y_val, \n",
    "        X_test=X_test, \n",
    "        y_test=y_test, \n",
    "        X_pool=X_pool, \n",
    "        y_pool=y_pool, \n",
    "        X_train=X_init, \n",
    "        y_train=y_init, \n",
    "        X_init=X_init, \n",
    "        y_init=y_init, \n",
    "        estimator=estimator)\n",
    "    print_elapsed_time(start_time=start_time, exp=e+1, acq_func=\"MBR\")\n",
    "    avg_hist.append(hist)\n",
    "\n",
    "result = np.mean(np.array(avg_hist), axis=0)"
   ]
  },
  {
   "cell_type": "code",
   "execution_count": null,
   "metadata": {
    "id": "eRBUf1l99rfe"
   },
   "outputs": [],
   "source": [
    "uniform = np.load(\"result_npy/uniform.npy\")\n",
    "bald = np.load(\"result_npy/bald.npy\")\n",
    "max_entropy = np.load(\"result_npy/max_entropy.npy\")\n",
    "var_ratios = np.load(\"result_npy/var_ratios.npy\")"
   ]
  },
  {
   "cell_type": "code",
   "execution_count": null,
   "metadata": {
    "colab": {
     "base_uri": "https://localhost:8080/",
     "height": 324
    },
    "id": "pXTjMwyl9zuG",
    "outputId": "8da333d9-30c1-471e-ed61-77066ac5e3e4"
   },
   "outputs": [],
   "source": [
    "sns.set()\n",
    "plt.figure(figsize=(7,5))\n",
    "\n",
    "result = gaussian_filter1d(result, sigma=0.2) # for smoother graph\n",
    "uniform = gaussian_filter1d(uniform, sigma=0.2)\n",
    "bald = gaussian_filter1d(bald, sigma=0.2)\n",
    "max_entropy = gaussian_filter1d(max_entropy, sigma=0.2)\n",
    "var_ratios = gaussian_filter1d(var_ratios, sigma=0.2)\n",
    "\n",
    "plt.plot(result, label=\"MBR\")\n",
    "plt.plot(uniform, label=\"Random\")\n",
    "plt.plot(bald, label=\"BALD\")\n",
    "plt.plot(max_entropy, label=\"Max Entropy\")\n",
    "plt.plot(var_ratios, label=\"Var Ratios\")\n",
    "\n",
    "plt.ylim([0.90, 1])\n",
    "plt.legend()\n",
    "plt.show()"
   ]
  },
  {
   "cell_type": "code",
   "execution_count": null,
   "metadata": {
    "id": "JXaflhmkC4Ew"
   },
   "outputs": [],
   "source": []
  }
 ],
 "metadata": {
  "accelerator": "GPU",
  "colab": {
   "collapsed_sections": [],
   "name": "comparison_to_MBR.ipynb",
   "provenance": [],
   "toc_visible": true
  },
  "kernelspec": {
   "display_name": "Python 3 (ipykernel)",
   "language": "python",
   "name": "python3"
  },
  "language_info": {
   "codemirror_mode": {
    "name": "ipython",
    "version": 3
   },
   "file_extension": ".py",
   "mimetype": "text/x-python",
   "name": "python",
   "nbconvert_exporter": "python",
   "pygments_lexer": "ipython3",
   "version": "3.9.6"
  },
  "widgets": {
   "application/vnd.jupyter.widget-state+json": {
    "002dcd76137a4c0085b9e88b8d21232d": {
     "model_module": "@jupyter-widgets/controls",
     "model_name": "ProgressStyleModel",
     "state": {
      "_model_module": "@jupyter-widgets/controls",
      "_model_module_version": "1.5.0",
      "_model_name": "ProgressStyleModel",
      "_view_count": null,
      "_view_module": "@jupyter-widgets/base",
      "_view_module_version": "1.2.0",
      "_view_name": "StyleView",
      "bar_color": null,
      "description_width": "initial"
     }
    },
    "014c489e79034e9fb8d12dd2264c312c": {
     "model_module": "@jupyter-widgets/controls",
     "model_name": "FloatProgressModel",
     "state": {
      "_dom_classes": [],
      "_model_module": "@jupyter-widgets/controls",
      "_model_module_version": "1.5.0",
      "_model_name": "FloatProgressModel",
      "_view_count": null,
      "_view_module": "@jupyter-widgets/controls",
      "_view_module_version": "1.5.0",
      "_view_name": "ProgressView",
      "bar_style": "success",
      "description": "",
      "description_tooltip": null,
      "layout": "IPY_MODEL_0308b63c7fc548dfb1df39b094da76bf",
      "max": 1,
      "min": 0,
      "orientation": "horizontal",
      "style": "IPY_MODEL_002dcd76137a4c0085b9e88b8d21232d",
      "value": 1
     }
    },
    "024c5025523d41c8a15ef2abff899f7f": {
     "model_module": "@jupyter-widgets/controls",
     "model_name": "HBoxModel",
     "state": {
      "_dom_classes": [],
      "_model_module": "@jupyter-widgets/controls",
      "_model_module_version": "1.5.0",
      "_model_name": "HBoxModel",
      "_view_count": null,
      "_view_module": "@jupyter-widgets/controls",
      "_view_module_version": "1.5.0",
      "_view_name": "HBoxView",
      "box_style": "",
      "children": [
       "IPY_MODEL_89e410d0f3d947eca2279fa79206595a",
       "IPY_MODEL_02936b7b61254a01822833517cea2f13"
      ],
      "layout": "IPY_MODEL_588172b0d77845208662681dd45ba376"
     }
    },
    "02936b7b61254a01822833517cea2f13": {
     "model_module": "@jupyter-widgets/controls",
     "model_name": "HTMLModel",
     "state": {
      "_dom_classes": [],
      "_model_module": "@jupyter-widgets/controls",
      "_model_module_version": "1.5.0",
      "_model_name": "HTMLModel",
      "_view_count": null,
      "_view_module": "@jupyter-widgets/controls",
      "_view_module_version": "1.5.0",
      "_view_name": "HTMLView",
      "description": "",
      "description_tooltip": null,
      "layout": "IPY_MODEL_69d106f9f09045289860181456c18235",
      "placeholder": "​",
      "style": "IPY_MODEL_0df162b91a7f41aea412b5a2d2164ba4",
      "value": " 8192/? [00:00&lt;00:00, 13489.67it/s]"
     }
    },
    "0308b63c7fc548dfb1df39b094da76bf": {
     "model_module": "@jupyter-widgets/base",
     "model_name": "LayoutModel",
     "state": {
      "_model_module": "@jupyter-widgets/base",
      "_model_module_version": "1.2.0",
      "_model_name": "LayoutModel",
      "_view_count": null,
      "_view_module": "@jupyter-widgets/base",
      "_view_module_version": "1.2.0",
      "_view_name": "LayoutView",
      "align_content": null,
      "align_items": null,
      "align_self": null,
      "border": null,
      "bottom": null,
      "display": null,
      "flex": null,
      "flex_flow": null,
      "grid_area": null,
      "grid_auto_columns": null,
      "grid_auto_flow": null,
      "grid_auto_rows": null,
      "grid_column": null,
      "grid_gap": null,
      "grid_row": null,
      "grid_template_areas": null,
      "grid_template_columns": null,
      "grid_template_rows": null,
      "height": null,
      "justify_content": null,
      "justify_items": null,
      "left": null,
      "margin": null,
      "max_height": null,
      "max_width": null,
      "min_height": null,
      "min_width": null,
      "object_fit": null,
      "object_position": null,
      "order": null,
      "overflow": null,
      "overflow_x": null,
      "overflow_y": null,
      "padding": null,
      "right": null,
      "top": null,
      "visibility": null,
      "width": null
     }
    },
    "09b628aab8fe48b3baf8032832a2b2d7": {
     "model_module": "@jupyter-widgets/controls",
     "model_name": "FloatProgressModel",
     "state": {
      "_dom_classes": [],
      "_model_module": "@jupyter-widgets/controls",
      "_model_module_version": "1.5.0",
      "_model_name": "FloatProgressModel",
      "_view_count": null,
      "_view_module": "@jupyter-widgets/controls",
      "_view_module_version": "1.5.0",
      "_view_name": "ProgressView",
      "bar_style": "success",
      "description": "",
      "description_tooltip": null,
      "layout": "IPY_MODEL_d030d33a5d1b4991bafb4ca97df381ba",
      "max": 1,
      "min": 0,
      "orientation": "horizontal",
      "style": "IPY_MODEL_2afc728871be4afa8da5dbda079dfb87",
      "value": 1
     }
    },
    "0df162b91a7f41aea412b5a2d2164ba4": {
     "model_module": "@jupyter-widgets/controls",
     "model_name": "DescriptionStyleModel",
     "state": {
      "_model_module": "@jupyter-widgets/controls",
      "_model_module_version": "1.5.0",
      "_model_name": "DescriptionStyleModel",
      "_view_count": null,
      "_view_module": "@jupyter-widgets/base",
      "_view_module_version": "1.2.0",
      "_view_name": "StyleView",
      "description_width": ""
     }
    },
    "17a23def78c0492abf3225cc6468f836": {
     "model_module": "@jupyter-widgets/base",
     "model_name": "LayoutModel",
     "state": {
      "_model_module": "@jupyter-widgets/base",
      "_model_module_version": "1.2.0",
      "_model_name": "LayoutModel",
      "_view_count": null,
      "_view_module": "@jupyter-widgets/base",
      "_view_module_version": "1.2.0",
      "_view_name": "LayoutView",
      "align_content": null,
      "align_items": null,
      "align_self": null,
      "border": null,
      "bottom": null,
      "display": null,
      "flex": null,
      "flex_flow": null,
      "grid_area": null,
      "grid_auto_columns": null,
      "grid_auto_flow": null,
      "grid_auto_rows": null,
      "grid_column": null,
      "grid_gap": null,
      "grid_row": null,
      "grid_template_areas": null,
      "grid_template_columns": null,
      "grid_template_rows": null,
      "height": null,
      "justify_content": null,
      "justify_items": null,
      "left": null,
      "margin": null,
      "max_height": null,
      "max_width": null,
      "min_height": null,
      "min_width": null,
      "object_fit": null,
      "object_position": null,
      "order": null,
      "overflow": null,
      "overflow_x": null,
      "overflow_y": null,
      "padding": null,
      "right": null,
      "top": null,
      "visibility": null,
      "width": null
     }
    },
    "2afc728871be4afa8da5dbda079dfb87": {
     "model_module": "@jupyter-widgets/controls",
     "model_name": "ProgressStyleModel",
     "state": {
      "_model_module": "@jupyter-widgets/controls",
      "_model_module_version": "1.5.0",
      "_model_name": "ProgressStyleModel",
      "_view_count": null,
      "_view_module": "@jupyter-widgets/base",
      "_view_module_version": "1.2.0",
      "_view_name": "StyleView",
      "bar_color": null,
      "description_width": "initial"
     }
    },
    "2c1da7bd8b524666ae0086c82095e214": {
     "model_module": "@jupyter-widgets/controls",
     "model_name": "HTMLModel",
     "state": {
      "_dom_classes": [],
      "_model_module": "@jupyter-widgets/controls",
      "_model_module_version": "1.5.0",
      "_model_name": "HTMLModel",
      "_view_count": null,
      "_view_module": "@jupyter-widgets/controls",
      "_view_module_version": "1.5.0",
      "_view_name": "HTMLView",
      "description": "",
      "description_tooltip": null,
      "layout": "IPY_MODEL_e62b575c26c342a783ce2244645bf8c8",
      "placeholder": "​",
      "style": "IPY_MODEL_b02fa94725c542c7b508c7e4e2380901",
      "value": " 9920512/? [00:01&lt;00:00, 7938673.30it/s]"
     }
    },
    "2e7b84b61dad4cb29cab7b3359866e26": {
     "model_module": "@jupyter-widgets/controls",
     "model_name": "HTMLModel",
     "state": {
      "_dom_classes": [],
      "_model_module": "@jupyter-widgets/controls",
      "_model_module_version": "1.5.0",
      "_model_name": "HTMLModel",
      "_view_count": null,
      "_view_module": "@jupyter-widgets/controls",
      "_view_module_version": "1.5.0",
      "_view_name": "HTMLView",
      "description": "",
      "description_tooltip": null,
      "layout": "IPY_MODEL_630d6c0992014d6a8c5b9219c07cafaf",
      "placeholder": "​",
      "style": "IPY_MODEL_c5c13b22e3304125b2b3ed88ffc042bf",
      "value": " 1654784/? [00:01&lt;00:00, 1140540.37it/s]"
     }
    },
    "3901cdd8c2d74856b81a192552645bb1": {
     "model_module": "@jupyter-widgets/controls",
     "model_name": "HBoxModel",
     "state": {
      "_dom_classes": [],
      "_model_module": "@jupyter-widgets/controls",
      "_model_module_version": "1.5.0",
      "_model_name": "HBoxModel",
      "_view_count": null,
      "_view_module": "@jupyter-widgets/controls",
      "_view_module_version": "1.5.0",
      "_view_name": "HBoxView",
      "box_style": "",
      "children": [
       "IPY_MODEL_09b628aab8fe48b3baf8032832a2b2d7",
       "IPY_MODEL_cbc0462095eb477fb4552e66c816ceb2"
      ],
      "layout": "IPY_MODEL_b1dc88a5e47944d2943f81a4745f0d91"
     }
    },
    "503ba1cd7e1c40ea98f8cdbcef1d3b76": {
     "model_module": "@jupyter-widgets/controls",
     "model_name": "FloatProgressModel",
     "state": {
      "_dom_classes": [],
      "_model_module": "@jupyter-widgets/controls",
      "_model_module_version": "1.5.0",
      "_model_name": "FloatProgressModel",
      "_view_count": null,
      "_view_module": "@jupyter-widgets/controls",
      "_view_module_version": "1.5.0",
      "_view_name": "ProgressView",
      "bar_style": "success",
      "description": "",
      "description_tooltip": null,
      "layout": "IPY_MODEL_514c468eac06446e86ca9505fdeb5592",
      "max": 1,
      "min": 0,
      "orientation": "horizontal",
      "style": "IPY_MODEL_d7955a1118834a6e8a5e951a3613dbd2",
      "value": 1
     }
    },
    "514c468eac06446e86ca9505fdeb5592": {
     "model_module": "@jupyter-widgets/base",
     "model_name": "LayoutModel",
     "state": {
      "_model_module": "@jupyter-widgets/base",
      "_model_module_version": "1.2.0",
      "_model_name": "LayoutModel",
      "_view_count": null,
      "_view_module": "@jupyter-widgets/base",
      "_view_module_version": "1.2.0",
      "_view_name": "LayoutView",
      "align_content": null,
      "align_items": null,
      "align_self": null,
      "border": null,
      "bottom": null,
      "display": null,
      "flex": null,
      "flex_flow": null,
      "grid_area": null,
      "grid_auto_columns": null,
      "grid_auto_flow": null,
      "grid_auto_rows": null,
      "grid_column": null,
      "grid_gap": null,
      "grid_row": null,
      "grid_template_areas": null,
      "grid_template_columns": null,
      "grid_template_rows": null,
      "height": null,
      "justify_content": null,
      "justify_items": null,
      "left": null,
      "margin": null,
      "max_height": null,
      "max_width": null,
      "min_height": null,
      "min_width": null,
      "object_fit": null,
      "object_position": null,
      "order": null,
      "overflow": null,
      "overflow_x": null,
      "overflow_y": null,
      "padding": null,
      "right": null,
      "top": null,
      "visibility": null,
      "width": null
     }
    },
    "588172b0d77845208662681dd45ba376": {
     "model_module": "@jupyter-widgets/base",
     "model_name": "LayoutModel",
     "state": {
      "_model_module": "@jupyter-widgets/base",
      "_model_module_version": "1.2.0",
      "_model_name": "LayoutModel",
      "_view_count": null,
      "_view_module": "@jupyter-widgets/base",
      "_view_module_version": "1.2.0",
      "_view_name": "LayoutView",
      "align_content": null,
      "align_items": null,
      "align_self": null,
      "border": null,
      "bottom": null,
      "display": null,
      "flex": null,
      "flex_flow": null,
      "grid_area": null,
      "grid_auto_columns": null,
      "grid_auto_flow": null,
      "grid_auto_rows": null,
      "grid_column": null,
      "grid_gap": null,
      "grid_row": null,
      "grid_template_areas": null,
      "grid_template_columns": null,
      "grid_template_rows": null,
      "height": null,
      "justify_content": null,
      "justify_items": null,
      "left": null,
      "margin": null,
      "max_height": null,
      "max_width": null,
      "min_height": null,
      "min_width": null,
      "object_fit": null,
      "object_position": null,
      "order": null,
      "overflow": null,
      "overflow_x": null,
      "overflow_y": null,
      "padding": null,
      "right": null,
      "top": null,
      "visibility": null,
      "width": null
     }
    },
    "630d6c0992014d6a8c5b9219c07cafaf": {
     "model_module": "@jupyter-widgets/base",
     "model_name": "LayoutModel",
     "state": {
      "_model_module": "@jupyter-widgets/base",
      "_model_module_version": "1.2.0",
      "_model_name": "LayoutModel",
      "_view_count": null,
      "_view_module": "@jupyter-widgets/base",
      "_view_module_version": "1.2.0",
      "_view_name": "LayoutView",
      "align_content": null,
      "align_items": null,
      "align_self": null,
      "border": null,
      "bottom": null,
      "display": null,
      "flex": null,
      "flex_flow": null,
      "grid_area": null,
      "grid_auto_columns": null,
      "grid_auto_flow": null,
      "grid_auto_rows": null,
      "grid_column": null,
      "grid_gap": null,
      "grid_row": null,
      "grid_template_areas": null,
      "grid_template_columns": null,
      "grid_template_rows": null,
      "height": null,
      "justify_content": null,
      "justify_items": null,
      "left": null,
      "margin": null,
      "max_height": null,
      "max_width": null,
      "min_height": null,
      "min_width": null,
      "object_fit": null,
      "object_position": null,
      "order": null,
      "overflow": null,
      "overflow_x": null,
      "overflow_y": null,
      "padding": null,
      "right": null,
      "top": null,
      "visibility": null,
      "width": null
     }
    },
    "63f9e8f5c22c454fa8df54e5da6ebc45": {
     "model_module": "@jupyter-widgets/base",
     "model_name": "LayoutModel",
     "state": {
      "_model_module": "@jupyter-widgets/base",
      "_model_module_version": "1.2.0",
      "_model_name": "LayoutModel",
      "_view_count": null,
      "_view_module": "@jupyter-widgets/base",
      "_view_module_version": "1.2.0",
      "_view_name": "LayoutView",
      "align_content": null,
      "align_items": null,
      "align_self": null,
      "border": null,
      "bottom": null,
      "display": null,
      "flex": null,
      "flex_flow": null,
      "grid_area": null,
      "grid_auto_columns": null,
      "grid_auto_flow": null,
      "grid_auto_rows": null,
      "grid_column": null,
      "grid_gap": null,
      "grid_row": null,
      "grid_template_areas": null,
      "grid_template_columns": null,
      "grid_template_rows": null,
      "height": null,
      "justify_content": null,
      "justify_items": null,
      "left": null,
      "margin": null,
      "max_height": null,
      "max_width": null,
      "min_height": null,
      "min_width": null,
      "object_fit": null,
      "object_position": null,
      "order": null,
      "overflow": null,
      "overflow_x": null,
      "overflow_y": null,
      "padding": null,
      "right": null,
      "top": null,
      "visibility": null,
      "width": null
     }
    },
    "69d106f9f09045289860181456c18235": {
     "model_module": "@jupyter-widgets/base",
     "model_name": "LayoutModel",
     "state": {
      "_model_module": "@jupyter-widgets/base",
      "_model_module_version": "1.2.0",
      "_model_name": "LayoutModel",
      "_view_count": null,
      "_view_module": "@jupyter-widgets/base",
      "_view_module_version": "1.2.0",
      "_view_name": "LayoutView",
      "align_content": null,
      "align_items": null,
      "align_self": null,
      "border": null,
      "bottom": null,
      "display": null,
      "flex": null,
      "flex_flow": null,
      "grid_area": null,
      "grid_auto_columns": null,
      "grid_auto_flow": null,
      "grid_auto_rows": null,
      "grid_column": null,
      "grid_gap": null,
      "grid_row": null,
      "grid_template_areas": null,
      "grid_template_columns": null,
      "grid_template_rows": null,
      "height": null,
      "justify_content": null,
      "justify_items": null,
      "left": null,
      "margin": null,
      "max_height": null,
      "max_width": null,
      "min_height": null,
      "min_width": null,
      "object_fit": null,
      "object_position": null,
      "order": null,
      "overflow": null,
      "overflow_x": null,
      "overflow_y": null,
      "padding": null,
      "right": null,
      "top": null,
      "visibility": null,
      "width": null
     }
    },
    "73d29da2131c4fd7a21e94d162322048": {
     "model_module": "@jupyter-widgets/base",
     "model_name": "LayoutModel",
     "state": {
      "_model_module": "@jupyter-widgets/base",
      "_model_module_version": "1.2.0",
      "_model_name": "LayoutModel",
      "_view_count": null,
      "_view_module": "@jupyter-widgets/base",
      "_view_module_version": "1.2.0",
      "_view_name": "LayoutView",
      "align_content": null,
      "align_items": null,
      "align_self": null,
      "border": null,
      "bottom": null,
      "display": null,
      "flex": null,
      "flex_flow": null,
      "grid_area": null,
      "grid_auto_columns": null,
      "grid_auto_flow": null,
      "grid_auto_rows": null,
      "grid_column": null,
      "grid_gap": null,
      "grid_row": null,
      "grid_template_areas": null,
      "grid_template_columns": null,
      "grid_template_rows": null,
      "height": null,
      "justify_content": null,
      "justify_items": null,
      "left": null,
      "margin": null,
      "max_height": null,
      "max_width": null,
      "min_height": null,
      "min_width": null,
      "object_fit": null,
      "object_position": null,
      "order": null,
      "overflow": null,
      "overflow_x": null,
      "overflow_y": null,
      "padding": null,
      "right": null,
      "top": null,
      "visibility": null,
      "width": null
     }
    },
    "7efb1b31fe3d429facaebbf8d9f70cea": {
     "model_module": "@jupyter-widgets/controls",
     "model_name": "HBoxModel",
     "state": {
      "_dom_classes": [],
      "_model_module": "@jupyter-widgets/controls",
      "_model_module_version": "1.5.0",
      "_model_name": "HBoxModel",
      "_view_count": null,
      "_view_module": "@jupyter-widgets/controls",
      "_view_module_version": "1.5.0",
      "_view_name": "HBoxView",
      "box_style": "",
      "children": [
       "IPY_MODEL_503ba1cd7e1c40ea98f8cdbcef1d3b76",
       "IPY_MODEL_2c1da7bd8b524666ae0086c82095e214"
      ],
      "layout": "IPY_MODEL_63f9e8f5c22c454fa8df54e5da6ebc45"
     }
    },
    "89e410d0f3d947eca2279fa79206595a": {
     "model_module": "@jupyter-widgets/controls",
     "model_name": "FloatProgressModel",
     "state": {
      "_dom_classes": [],
      "_model_module": "@jupyter-widgets/controls",
      "_model_module_version": "1.5.0",
      "_model_name": "FloatProgressModel",
      "_view_count": null,
      "_view_module": "@jupyter-widgets/controls",
      "_view_module_version": "1.5.0",
      "_view_name": "ProgressView",
      "bar_style": "success",
      "description": "",
      "description_tooltip": null,
      "layout": "IPY_MODEL_73d29da2131c4fd7a21e94d162322048",
      "max": 1,
      "min": 0,
      "orientation": "horizontal",
      "style": "IPY_MODEL_ac1065531699495e9cc0f629bd3c1435",
      "value": 1
     }
    },
    "ac1065531699495e9cc0f629bd3c1435": {
     "model_module": "@jupyter-widgets/controls",
     "model_name": "ProgressStyleModel",
     "state": {
      "_model_module": "@jupyter-widgets/controls",
      "_model_module_version": "1.5.0",
      "_model_name": "ProgressStyleModel",
      "_view_count": null,
      "_view_module": "@jupyter-widgets/base",
      "_view_module_version": "1.2.0",
      "_view_name": "StyleView",
      "bar_color": null,
      "description_width": "initial"
     }
    },
    "b02fa94725c542c7b508c7e4e2380901": {
     "model_module": "@jupyter-widgets/controls",
     "model_name": "DescriptionStyleModel",
     "state": {
      "_model_module": "@jupyter-widgets/controls",
      "_model_module_version": "1.5.0",
      "_model_name": "DescriptionStyleModel",
      "_view_count": null,
      "_view_module": "@jupyter-widgets/base",
      "_view_module_version": "1.2.0",
      "_view_name": "StyleView",
      "description_width": ""
     }
    },
    "b1dc88a5e47944d2943f81a4745f0d91": {
     "model_module": "@jupyter-widgets/base",
     "model_name": "LayoutModel",
     "state": {
      "_model_module": "@jupyter-widgets/base",
      "_model_module_version": "1.2.0",
      "_model_name": "LayoutModel",
      "_view_count": null,
      "_view_module": "@jupyter-widgets/base",
      "_view_module_version": "1.2.0",
      "_view_name": "LayoutView",
      "align_content": null,
      "align_items": null,
      "align_self": null,
      "border": null,
      "bottom": null,
      "display": null,
      "flex": null,
      "flex_flow": null,
      "grid_area": null,
      "grid_auto_columns": null,
      "grid_auto_flow": null,
      "grid_auto_rows": null,
      "grid_column": null,
      "grid_gap": null,
      "grid_row": null,
      "grid_template_areas": null,
      "grid_template_columns": null,
      "grid_template_rows": null,
      "height": null,
      "justify_content": null,
      "justify_items": null,
      "left": null,
      "margin": null,
      "max_height": null,
      "max_width": null,
      "min_height": null,
      "min_width": null,
      "object_fit": null,
      "object_position": null,
      "order": null,
      "overflow": null,
      "overflow_x": null,
      "overflow_y": null,
      "padding": null,
      "right": null,
      "top": null,
      "visibility": null,
      "width": null
     }
    },
    "b4ec75c8fc074011964a4b8e4ca3e9b4": {
     "model_module": "@jupyter-widgets/base",
     "model_name": "LayoutModel",
     "state": {
      "_model_module": "@jupyter-widgets/base",
      "_model_module_version": "1.2.0",
      "_model_name": "LayoutModel",
      "_view_count": null,
      "_view_module": "@jupyter-widgets/base",
      "_view_module_version": "1.2.0",
      "_view_name": "LayoutView",
      "align_content": null,
      "align_items": null,
      "align_self": null,
      "border": null,
      "bottom": null,
      "display": null,
      "flex": null,
      "flex_flow": null,
      "grid_area": null,
      "grid_auto_columns": null,
      "grid_auto_flow": null,
      "grid_auto_rows": null,
      "grid_column": null,
      "grid_gap": null,
      "grid_row": null,
      "grid_template_areas": null,
      "grid_template_columns": null,
      "grid_template_rows": null,
      "height": null,
      "justify_content": null,
      "justify_items": null,
      "left": null,
      "margin": null,
      "max_height": null,
      "max_width": null,
      "min_height": null,
      "min_width": null,
      "object_fit": null,
      "object_position": null,
      "order": null,
      "overflow": null,
      "overflow_x": null,
      "overflow_y": null,
      "padding": null,
      "right": null,
      "top": null,
      "visibility": null,
      "width": null
     }
    },
    "b8f32f5f1ada4323a49e7229790b427d": {
     "model_module": "@jupyter-widgets/controls",
     "model_name": "DescriptionStyleModel",
     "state": {
      "_model_module": "@jupyter-widgets/controls",
      "_model_module_version": "1.5.0",
      "_model_name": "DescriptionStyleModel",
      "_view_count": null,
      "_view_module": "@jupyter-widgets/base",
      "_view_module_version": "1.2.0",
      "_view_name": "StyleView",
      "description_width": ""
     }
    },
    "c5c13b22e3304125b2b3ed88ffc042bf": {
     "model_module": "@jupyter-widgets/controls",
     "model_name": "DescriptionStyleModel",
     "state": {
      "_model_module": "@jupyter-widgets/controls",
      "_model_module_version": "1.5.0",
      "_model_name": "DescriptionStyleModel",
      "_view_count": null,
      "_view_module": "@jupyter-widgets/base",
      "_view_module_version": "1.2.0",
      "_view_name": "StyleView",
      "description_width": ""
     }
    },
    "cbc0462095eb477fb4552e66c816ceb2": {
     "model_module": "@jupyter-widgets/controls",
     "model_name": "HTMLModel",
     "state": {
      "_dom_classes": [],
      "_model_module": "@jupyter-widgets/controls",
      "_model_module_version": "1.5.0",
      "_model_name": "HTMLModel",
      "_view_count": null,
      "_view_module": "@jupyter-widgets/controls",
      "_view_module_version": "1.5.0",
      "_view_name": "HTMLView",
      "description": "",
      "description_tooltip": null,
      "layout": "IPY_MODEL_b4ec75c8fc074011964a4b8e4ca3e9b4",
      "placeholder": "​",
      "style": "IPY_MODEL_b8f32f5f1ada4323a49e7229790b427d",
      "value": " 32768/? [00:02&lt;00:00, 14176.27it/s]"
     }
    },
    "d030d33a5d1b4991bafb4ca97df381ba": {
     "model_module": "@jupyter-widgets/base",
     "model_name": "LayoutModel",
     "state": {
      "_model_module": "@jupyter-widgets/base",
      "_model_module_version": "1.2.0",
      "_model_name": "LayoutModel",
      "_view_count": null,
      "_view_module": "@jupyter-widgets/base",
      "_view_module_version": "1.2.0",
      "_view_name": "LayoutView",
      "align_content": null,
      "align_items": null,
      "align_self": null,
      "border": null,
      "bottom": null,
      "display": null,
      "flex": null,
      "flex_flow": null,
      "grid_area": null,
      "grid_auto_columns": null,
      "grid_auto_flow": null,
      "grid_auto_rows": null,
      "grid_column": null,
      "grid_gap": null,
      "grid_row": null,
      "grid_template_areas": null,
      "grid_template_columns": null,
      "grid_template_rows": null,
      "height": null,
      "justify_content": null,
      "justify_items": null,
      "left": null,
      "margin": null,
      "max_height": null,
      "max_width": null,
      "min_height": null,
      "min_width": null,
      "object_fit": null,
      "object_position": null,
      "order": null,
      "overflow": null,
      "overflow_x": null,
      "overflow_y": null,
      "padding": null,
      "right": null,
      "top": null,
      "visibility": null,
      "width": null
     }
    },
    "d7955a1118834a6e8a5e951a3613dbd2": {
     "model_module": "@jupyter-widgets/controls",
     "model_name": "ProgressStyleModel",
     "state": {
      "_model_module": "@jupyter-widgets/controls",
      "_model_module_version": "1.5.0",
      "_model_name": "ProgressStyleModel",
      "_view_count": null,
      "_view_module": "@jupyter-widgets/base",
      "_view_module_version": "1.2.0",
      "_view_name": "StyleView",
      "bar_color": null,
      "description_width": "initial"
     }
    },
    "e62b575c26c342a783ce2244645bf8c8": {
     "model_module": "@jupyter-widgets/base",
     "model_name": "LayoutModel",
     "state": {
      "_model_module": "@jupyter-widgets/base",
      "_model_module_version": "1.2.0",
      "_model_name": "LayoutModel",
      "_view_count": null,
      "_view_module": "@jupyter-widgets/base",
      "_view_module_version": "1.2.0",
      "_view_name": "LayoutView",
      "align_content": null,
      "align_items": null,
      "align_self": null,
      "border": null,
      "bottom": null,
      "display": null,
      "flex": null,
      "flex_flow": null,
      "grid_area": null,
      "grid_auto_columns": null,
      "grid_auto_flow": null,
      "grid_auto_rows": null,
      "grid_column": null,
      "grid_gap": null,
      "grid_row": null,
      "grid_template_areas": null,
      "grid_template_columns": null,
      "grid_template_rows": null,
      "height": null,
      "justify_content": null,
      "justify_items": null,
      "left": null,
      "margin": null,
      "max_height": null,
      "max_width": null,
      "min_height": null,
      "min_width": null,
      "object_fit": null,
      "object_position": null,
      "order": null,
      "overflow": null,
      "overflow_x": null,
      "overflow_y": null,
      "padding": null,
      "right": null,
      "top": null,
      "visibility": null,
      "width": null
     }
    },
    "f8878bc395354dbd925cdc95cbeff704": {
     "model_module": "@jupyter-widgets/controls",
     "model_name": "HBoxModel",
     "state": {
      "_dom_classes": [],
      "_model_module": "@jupyter-widgets/controls",
      "_model_module_version": "1.5.0",
      "_model_name": "HBoxModel",
      "_view_count": null,
      "_view_module": "@jupyter-widgets/controls",
      "_view_module_version": "1.5.0",
      "_view_name": "HBoxView",
      "box_style": "",
      "children": [
       "IPY_MODEL_014c489e79034e9fb8d12dd2264c312c",
       "IPY_MODEL_2e7b84b61dad4cb29cab7b3359866e26"
      ],
      "layout": "IPY_MODEL_17a23def78c0492abf3225cc6468f836"
     }
    }
   }
  }
 },
 "nbformat": 4,
 "nbformat_minor": 1
}
